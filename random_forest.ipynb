{
  "nbformat": 4,
  "nbformat_minor": 0,
  "metadata": {
    "colab": {
      "provenance": [],
      "authorship_tag": "ABX9TyNdrSlEcFkSnasYYDTMImGc",
      "include_colab_link": true
    },
    "kernelspec": {
      "name": "python3",
      "display_name": "Python 3"
    },
    "language_info": {
      "name": "python"
    }
  },
  "cells": [
    {
      "cell_type": "markdown",
      "metadata": {
        "id": "view-in-github",
        "colab_type": "text"
      },
      "source": [
        "<a href=\"https://colab.research.google.com/github/nabomhalang/shinhan/blob/main/random_forest.ipynb\" target=\"_parent\"><img src=\"https://colab.research.google.com/assets/colab-badge.svg\" alt=\"Open In Colab\"/></a>"
      ]
    },
    {
      "cell_type": "markdown",
      "source": [
        "# Random Forest\n",
        "- 머신 러닝의 일종으로 분류 작업을 하는데 효과적입니다.\n",
        "- 활용 : 새로운 고객의 프로파일만 가지고 금융 상품을 추측이 가능하다."
      ],
      "metadata": {
        "id": "Yw3mqI71tekU"
      }
    },
    {
      "cell_type": "code",
      "execution_count": null,
      "metadata": {
        "colab": {
          "base_uri": "https://localhost:8080/"
        },
        "id": "Tr2EPNNHtZXY",
        "outputId": "9187b9a3-fb1d-4ae0-beb4-16e297916a1d"
      },
      "outputs": [
        {
          "output_type": "stream",
          "name": "stdout",
          "text": [
            "Requirement already satisfied: scikit-learn in /usr/local/lib/python3.10/dist-packages (1.2.2)\n",
            "Collecting scikit-learn\n",
            "  Downloading scikit_learn-1.3.2-cp310-cp310-manylinux_2_17_x86_64.manylinux2014_x86_64.whl (10.8 MB)\n",
            "\u001b[2K     \u001b[90m━━━━━━━━━━━━━━━━━━━━━━━━━━━━━━━━━━━━━━━━\u001b[0m \u001b[32m10.8/10.8 MB\u001b[0m \u001b[31m28.0 MB/s\u001b[0m eta \u001b[36m0:00:00\u001b[0m\n",
            "\u001b[?25hRequirement already satisfied: numpy<2.0,>=1.17.3 in /usr/local/lib/python3.10/dist-packages (from scikit-learn) (1.23.5)\n",
            "Requirement already satisfied: scipy>=1.5.0 in /usr/local/lib/python3.10/dist-packages (from scikit-learn) (1.11.4)\n",
            "Requirement already satisfied: joblib>=1.1.1 in /usr/local/lib/python3.10/dist-packages (from scikit-learn) (1.3.2)\n",
            "Requirement already satisfied: threadpoolctl>=2.0.0 in /usr/local/lib/python3.10/dist-packages (from scikit-learn) (3.2.0)\n",
            "Installing collected packages: scikit-learn\n",
            "  Attempting uninstall: scikit-learn\n",
            "    Found existing installation: scikit-learn 1.2.2\n",
            "    Uninstalling scikit-learn-1.2.2:\n",
            "      Successfully uninstalled scikit-learn-1.2.2\n",
            "Successfully installed scikit-learn-1.3.2\n",
            "Requirement already satisfied: pandas in /usr/local/lib/python3.10/dist-packages (1.5.3)\n",
            "Requirement already satisfied: python-dateutil>=2.8.1 in /usr/local/lib/python3.10/dist-packages (from pandas) (2.8.2)\n",
            "Requirement already satisfied: pytz>=2020.1 in /usr/local/lib/python3.10/dist-packages (from pandas) (2023.3.post1)\n",
            "Requirement already satisfied: numpy>=1.21.0 in /usr/local/lib/python3.10/dist-packages (from pandas) (1.23.5)\n",
            "Requirement already satisfied: six>=1.5 in /usr/local/lib/python3.10/dist-packages (from python-dateutil>=2.8.1->pandas) (1.16.0)\n"
          ]
        }
      ],
      "source": [
        "# prompt: sklearn & pandas install\n",
        "\n",
        "!pip install -U scikit-learn\n",
        "!pip install pandas"
      ]
    },
    {
      "cell_type": "code",
      "source": [
        "from sklearn.ensemble import RandomForestClassifier\n",
        "from sklearn.model_selection import train_test_split\n",
        "from sklearn.metrics import accuracy_score\n",
        "from sklearn.preprocessing import LabelEncoder\n",
        "import pandas as pd\n",
        "import numpy as np"
      ],
      "metadata": {
        "id": "X-e6ZixCtujL"
      },
      "execution_count": 2,
      "outputs": []
    },
    {
      "cell_type": "markdown",
      "source": [
        "# 월드컵 예시 데이터셋 생성\n",
        "- age: 고객의 나이.\n",
        "- income: 고객의 소득.\n",
        "- product_preference: 고객이 선호하는 금융 상품.\n",
        "- employment_full-time, employment_part-time, employment_self-employed, employment_unemployed: 고용 상태를 나타내는 더미 변수.\n",
        "- marital_status_divorced, marital_status_married, marital_status_single: 결혼 상태를 나타내는 더미 변수.\n",
        "-residence_area_rural, residence_area_suburban, residence_area_urban: 거주 지역을 나타내는 더미 변수."
      ],
      "metadata": {
        "id": "dmYQAcuTx_D6"
      }
    },
    {
      "cell_type": "code",
      "source": [
        "data = {\n",
        "    'age': np.random.randint(20, 60, 500),\n",
        "    'income': np.random.randint(30000, 100000, 500),\n",
        "    'employment': np.random.choice(['full-time', 'part-time', 'self-employed', 'unemployed'], 500),\n",
        "    'marital_status': np.random.choice(['single', 'married', 'divorced'], 500),\n",
        "    'residence_area': np.random.choice(['urban', 'suburban', 'rural'], 500),\n",
        "    'product_preference': np.random.choice(['savings', 'credit card', 'mortgage', 'pension', 'investment'], 500)\n",
        "}"
      ],
      "metadata": {
        "id": "dAUyfg7G-n1w"
      },
      "execution_count": 24,
      "outputs": []
    },
    {
      "cell_type": "code",
      "source": [
        "data = {\n",
        "    'age': [27, 32, 40, 55, 38, 29, 41, 36, 33, 47, 26, 34, 43, 52, 37, 31, 44, 49, 50, 45],\n",
        "    'income': [55000, 62000, 78000, 110000, 72000, 54000, 88000, 76000, 63000, 92000,\n",
        "               51000, 68000, 85000, 102000, 74000, 60000, 83000, 97000, 103000, 89000],\n",
        "    'employment': ['full-time', 'part-time', 'self-employed', 'unemployed', 'full-time',\n",
        "                   'full-time', 'part-time', 'self-employed', 'full-time', 'unemployed',\n",
        "                   'full-time', 'part-time', 'self-employed', 'unemployed', 'full-time',\n",
        "                   'full-time', 'part-time', 'self-employed', 'full-time', 'unemployed'],\n",
        "    'marital_status': ['single', 'married', 'married', 'single', 'divorced',\n",
        "                       'married', 'divorced', 'single', 'married', 'single',\n",
        "                       'single', 'married', 'married', 'single', 'divorced',\n",
        "                       'married', 'divorced', 'single', 'married', 'single'],\n",
        "    'residence_area': ['urban', 'suburban', 'rural', 'urban', 'suburban',\n",
        "                       'rural', 'urban', 'suburban', 'rural', 'urban',\n",
        "                       'urban', 'suburban', 'rural', 'urban', 'suburban',\n",
        "                       'rural', 'urban', 'suburban', 'rural', 'urban'],\n",
        "    'product_preference': ['savings', 'credit card', 'mortgage', 'pension', 'investment',\n",
        "                           'savings', 'credit card', 'mortgage', 'pension', 'investment',\n",
        "                           'savings', 'credit card', 'mortgage', 'pension', 'investment',\n",
        "                           'savings', 'credit card', 'mortgage', 'pension', 'investment']\n",
        "}"
      ],
      "metadata": {
        "id": "T8BOCGi_v8F7"
      },
      "execution_count": 39,
      "outputs": []
    },
    {
      "cell_type": "code",
      "source": [
        "df = pd.DataFrame(data)\n",
        "print(df.head())"
      ],
      "metadata": {
        "colab": {
          "base_uri": "https://localhost:8080/"
        },
        "id": "xQ__nWzb-4a7",
        "outputId": "2cb35151-3e20-40b5-a88b-b83f3fdca9f1"
      },
      "execution_count": 40,
      "outputs": [
        {
          "output_type": "stream",
          "name": "stdout",
          "text": [
            "   age  income     employment marital_status residence_area product_preference\n",
            "0   27   55000      full-time         single          urban            savings\n",
            "1   32   62000      part-time        married       suburban        credit card\n",
            "2   40   78000  self-employed        married          rural           mortgage\n",
            "3   55  110000     unemployed         single          urban            pension\n",
            "4   38   72000      full-time       divorced       suburban         investment\n"
          ]
        }
      ]
    },
    {
      "cell_type": "code",
      "source": [
        "# 범주형 변수를 더미 변수로 변환\n",
        "df_dummy = pd.get_dummies(df, columns=['employment', 'marital_status', 'residence_area'])\n",
        "\n",
        "# 레이블 인코딩\n",
        "label_encoder = LabelEncoder()\n",
        "df_dummy['product_preference'] = label_encoder.fit_transform(df['product_preference'])\n",
        "\n",
        "# 특성과 타겟 변수를 분리\n",
        "X = df_dummy.drop('product_preference', axis=1)\n",
        "y = df_dummy['product_preference']\n",
        "\n",
        "# 훈련 데이터와 테스트 데이터로 분할\n",
        "X_train, X_test, y_train, y_test = train_test_split(X, y, test_size=0.2, random_state=42)\n",
        "\n",
        "# Random Forest 모델 생성 및 훈련\n",
        "model = RandomForestClassifier(n_estimators=100, random_state=42)\n",
        "model.fit(X_train, y_train)\n",
        "\n",
        "# 예측 및 정확도 평가\n",
        "predictions = model.predict(X_test)\n",
        "accuracy = accuracy_score(y_test, predictions)\n",
        "print(f\"Model Accuracy: {accuracy * 100}\")"
      ],
      "metadata": {
        "colab": {
          "base_uri": "https://localhost:8080/"
        },
        "id": "fLmHKdmOv8pk",
        "outputId": "d04a3dc8-788c-4045-9ed2-742e10c3f6a5"
      },
      "execution_count": 41,
      "outputs": [
        {
          "output_type": "stream",
          "name": "stdout",
          "text": [
            "Model Accuracy: 75.0\n"
          ]
        }
      ]
    },
    {
      "cell_type": "markdown",
      "source": [
        "# 테스트는 여기 new_customer_data 수정하시면 됩니다.\n",
        "### 이후 age, income, employment, marital_status, residence_area만으로 모델이 예측한 특정 고객의 선호하는 금융상품 출력\n"
      ],
      "metadata": {
        "id": "RzbLax6f7OCv"
      }
    },
    {
      "cell_type": "code",
      "source": [
        "import pandas as pd\n",
        "from sklearn.ensemble import RandomForestClassifier\n",
        "from sklearn.preprocessing import LabelEncoder\n",
        "from sklearn.model_selection import train_test_split\n",
        "from sklearn.metrics import accuracy_score"
      ],
      "metadata": {
        "id": "8Pvyx07gIkN0"
      },
      "execution_count": 27,
      "outputs": []
    },
    {
      "cell_type": "code",
      "source": [
        "def RandomForest(new_customer_data):\n",
        "  # 새 고객 데이터에 대해 더미 변수 변환 수행\n",
        "  new_customer_data_transformed = pd.get_dummies(new_customer_data)\n",
        "\n",
        "  # 기존 훈련 데이터셋에서 사용된 컬럼과 일치하도록 새 데이터셋 조정\n",
        "  for column in X.columns:\n",
        "      if column not in new_customer_data_transformed:\n",
        "          new_customer_data_transformed[column] = 0  # 누락된 컬럼 추가\n",
        "  new_customer_data_transformed = new_customer_data_transformed[X.columns]\n",
        "\n",
        "  # 모델을 사용하여 새 고객 데이터에 대한 예측 수행\n",
        "  new_customer_prediction = model.predict(new_customer_data_transformed)\n",
        "\n",
        "  # 예측된 결과를 원래의 레이블로 변환\n",
        "  new_customer_prediction_label = label_encoder.inverse_transform(new_customer_prediction)\n",
        "\n",
        "  return new_customer_prediction_label[0]"
      ],
      "metadata": {
        "id": "wcvDX1gNJWWI"
      },
      "execution_count": 42,
      "outputs": []
    },
    {
      "cell_type": "code",
      "source": [
        "# 새로운 고객 데이터 준비\n",
        "new_customer_data = pd.DataFrame({\n",
        "    'age': [21],  # 예시 나이\n",
        "    'income': [15000],  # 예시 소득\n",
        "    'employment': ['self-employed'],  # 예시 고용 상태\n",
        "    'marital_status': ['single'],  # 예시 결혼 상태\n",
        "    'residence_area': ['urban']  # 예시 거주 지역\n",
        "})\n",
        "\n",
        "print(\"New Customer Predicted Product Preference:\", RandomForest(new_customer_data))"
      ],
      "metadata": {
        "colab": {
          "base_uri": "https://localhost:8080/"
        },
        "id": "RQOhx7CpArP7",
        "outputId": "cf415d18-a979-474e-ee82-5c342a2e9b6d"
      },
      "execution_count": 43,
      "outputs": [
        {
          "output_type": "stream",
          "name": "stdout",
          "text": [
            "New Customer Predicted Product Preference: mortgage\n"
          ]
        }
      ]
    },
    {
      "cell_type": "code",
      "source": [
        "# 새로운 고객 데이터 준비\n",
        "new_customer_data = pd.DataFrame({\n",
        "    'age': [34],  # 예시 나이\n",
        "    'income': [75000],  # 예시 소득\n",
        "    'employment': ['full-time'],  # 예시 고용 상태\n",
        "    'marital_status': ['married'],  # 예시 결혼 상태\n",
        "    'residence_area': ['urban']  # 예시 거주 지역\n",
        "})\n",
        "\n",
        "print(\"New Customer Predicted Product Preference:\", RandomForest(new_customer_data))"
      ],
      "metadata": {
        "colab": {
          "base_uri": "https://localhost:8080/"
        },
        "id": "cOObw9572mgW",
        "outputId": "c25023b0-a9ee-4e5d-d27b-d99afe8e491f"
      },
      "execution_count": 44,
      "outputs": [
        {
          "output_type": "stream",
          "name": "stdout",
          "text": [
            "New Customer Predicted Product Preference: investment\n"
          ]
        }
      ]
    },
    {
      "cell_type": "code",
      "source": [
        "# 새로운 고객 데이터 준비\n",
        "new_customer_data = pd.DataFrame({\n",
        "    'age': [24],  # 예시 나이\n",
        "    'income': [132000],  # 예시 소득\n",
        "    'employment': ['full-time'],  # 예시 고용 상태\n",
        "    'marital_status': ['single'],  # 예시 결혼 상태\n",
        "    'residence_area': ['urban']  # 예시 거주 지역\n",
        "})\n",
        "\n",
        "print(\"New Customer Predicted Product Preference:\", RandomForest(new_customer_data))"
      ],
      "metadata": {
        "colab": {
          "base_uri": "https://localhost:8080/"
        },
        "id": "i1ENqXc1-aym",
        "outputId": "42c367dd-a66b-4b96-ac27-842513b4e141"
      },
      "execution_count": 45,
      "outputs": [
        {
          "output_type": "stream",
          "name": "stdout",
          "text": [
            "New Customer Predicted Product Preference: savings\n"
          ]
        }
      ]
    }
  ]
}