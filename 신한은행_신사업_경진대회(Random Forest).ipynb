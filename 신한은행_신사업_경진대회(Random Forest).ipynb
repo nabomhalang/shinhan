{
  "nbformat": 4,
  "nbformat_minor": 0,
  "metadata": {
    "colab": {
      "provenance": [],
      "authorship_tag": "ABX9TyN3xkFpjLGFiK/NzMzKKQZu",
      "include_colab_link": true
    },
    "kernelspec": {
      "name": "python3",
      "display_name": "Python 3"
    },
    "language_info": {
      "name": "python"
    }
  },
  "cells": [
    {
      "cell_type": "markdown",
      "metadata": {
        "id": "view-in-github",
        "colab_type": "text"
      },
      "source": [
        "<a href=\"https://colab.research.google.com/github/nabomhalang/shinhan/blob/main/%EC%8B%A0%ED%95%9C%EC%9D%80%ED%96%89_%EC%8B%A0%EC%82%AC%EC%97%85_%EA%B2%BD%EC%A7%84%EB%8C%80%ED%9A%8C(Random%20Forest).ipynb\" target=\"_parent\"><img src=\"https://colab.research.google.com/assets/colab-badge.svg\" alt=\"Open In Colab\"/></a>"
      ]
    },
    {
      "cell_type": "markdown",
      "source": [
        "# Random Forest\n",
        "- 머신 러닝의 일종으로 분류 작업을 하는데 효과적입니다.\n",
        "- 활용 : 새로운 고객의 프로파일만 가지고 금융 상품을 추측이 가능하다."
      ],
      "metadata": {
        "id": "Yw3mqI71tekU"
      }
    },
    {
      "cell_type": "code",
      "execution_count": 6,
      "metadata": {
        "colab": {
          "base_uri": "https://localhost:8080/"
        },
        "id": "Tr2EPNNHtZXY",
        "outputId": "9187b9a3-fb1d-4ae0-beb4-16e297916a1d"
      },
      "outputs": [
        {
          "output_type": "stream",
          "name": "stdout",
          "text": [
            "Requirement already satisfied: scikit-learn in /usr/local/lib/python3.10/dist-packages (1.2.2)\n",
            "Collecting scikit-learn\n",
            "  Downloading scikit_learn-1.3.2-cp310-cp310-manylinux_2_17_x86_64.manylinux2014_x86_64.whl (10.8 MB)\n",
            "\u001b[2K     \u001b[90m━━━━━━━━━━━━━━━━━━━━━━━━━━━━━━━━━━━━━━━━\u001b[0m \u001b[32m10.8/10.8 MB\u001b[0m \u001b[31m28.0 MB/s\u001b[0m eta \u001b[36m0:00:00\u001b[0m\n",
            "\u001b[?25hRequirement already satisfied: numpy<2.0,>=1.17.3 in /usr/local/lib/python3.10/dist-packages (from scikit-learn) (1.23.5)\n",
            "Requirement already satisfied: scipy>=1.5.0 in /usr/local/lib/python3.10/dist-packages (from scikit-learn) (1.11.4)\n",
            "Requirement already satisfied: joblib>=1.1.1 in /usr/local/lib/python3.10/dist-packages (from scikit-learn) (1.3.2)\n",
            "Requirement already satisfied: threadpoolctl>=2.0.0 in /usr/local/lib/python3.10/dist-packages (from scikit-learn) (3.2.0)\n",
            "Installing collected packages: scikit-learn\n",
            "  Attempting uninstall: scikit-learn\n",
            "    Found existing installation: scikit-learn 1.2.2\n",
            "    Uninstalling scikit-learn-1.2.2:\n",
            "      Successfully uninstalled scikit-learn-1.2.2\n",
            "Successfully installed scikit-learn-1.3.2\n",
            "Requirement already satisfied: pandas in /usr/local/lib/python3.10/dist-packages (1.5.3)\n",
            "Requirement already satisfied: python-dateutil>=2.8.1 in /usr/local/lib/python3.10/dist-packages (from pandas) (2.8.2)\n",
            "Requirement already satisfied: pytz>=2020.1 in /usr/local/lib/python3.10/dist-packages (from pandas) (2023.3.post1)\n",
            "Requirement already satisfied: numpy>=1.21.0 in /usr/local/lib/python3.10/dist-packages (from pandas) (1.23.5)\n",
            "Requirement already satisfied: six>=1.5 in /usr/local/lib/python3.10/dist-packages (from python-dateutil>=2.8.1->pandas) (1.16.0)\n"
          ]
        }
      ],
      "source": [
        "# prompt: sklearn & pandas install\n",
        "\n",
        "!pip install -U scikit-learn\n",
        "!pip install pandas"
      ]
    },
    {
      "cell_type": "code",
      "source": [
        "from sklearn.ensemble import RandomForestClassifier\n",
        "from sklearn.model_selection import train_test_split\n",
        "from sklearn.metrics import accuracy_score\n",
        "from sklearn.preprocessing import LabelEncoder\n",
        "import pandas as pd"
      ],
      "metadata": {
        "id": "X-e6ZixCtujL"
      },
      "execution_count": 11,
      "outputs": []
    },
    {
      "cell_type": "markdown",
      "source": [
        "# 월드컵 예시 데이터셋 생성\n",
        "- age: 고객의 나이.\n",
        "- income: 고객의 소득.\n",
        "- product_preference: 고객이 선호하는 금융 상품.\n",
        "- employment_full-time, employment_part-time, employment_self-employed, employment_unemployed: 고용 상태를 나타내는 더미 변수.\n",
        "- marital_status_divorced, marital_status_married, marital_status_single: 결혼 상태를 나타내는 더미 변수.\n",
        "-residence_area_rural, residence_area_suburban, residence_area_urban: 거주 지역을 나타내는 더미 변수."
      ],
      "metadata": {
        "id": "dmYQAcuTx_D6"
      }
    },
    {
      "cell_type": "code",
      "source": [
        "data = {\n",
        "    'age': [25, 30, 45, 50, 35, 28, 42, 39, 31, 48],\n",
        "    'income': [50000, 60000, 80000, 100000, 70000, 52000, 86000, 73000, 61000, 90000],\n",
        "    'employment': ['full-time', 'part-time', 'self-employed', 'unemployed', 'full-time',\n",
        "                   'full-time', 'part-time', 'self-employed', 'full-time', 'unemployed'],\n",
        "    'marital_status': ['single', 'married', 'married', 'single', 'divorced',\n",
        "                       'married', 'divorced', 'single', 'married', 'single'],\n",
        "    'residence_area': ['urban', 'suburban', 'rural', 'urban', 'suburban',\n",
        "                       'rural', 'urban', 'suburban', 'rural', 'urban'],\n",
        "    'product_preference': ['savings', 'credit card', 'mortgage', 'pension', 'investment',\n",
        "                           'savings', 'credit card', 'mortgage', 'pension', 'investment']\n",
        "}\n",
        "df = pd.DataFrame(data)\n",
        "print(df.head())"
      ],
      "metadata": {
        "colab": {
          "base_uri": "https://localhost:8080/"
        },
        "id": "T8BOCGi_v8F7",
        "outputId": "9d47fa66-1032-4579-f3b5-c10f963554d6"
      },
      "execution_count": 16,
      "outputs": [
        {
          "output_type": "stream",
          "name": "stdout",
          "text": [
            "   age  income     employment marital_status residence_area product_preference\n",
            "0   25   50000      full-time         single          urban            savings\n",
            "1   30   60000      part-time        married       suburban        credit card\n",
            "2   45   80000  self-employed        married          rural           mortgage\n",
            "3   50  100000     unemployed         single          urban            pension\n",
            "4   35   70000      full-time       divorced       suburban         investment\n"
          ]
        }
      ]
    },
    {
      "cell_type": "code",
      "source": [
        "# 범주형 변수를 더미 변수로 변환\n",
        "df_dummy = pd.get_dummies(df, columns=['employment', 'marital_status', 'residence_area'])\n",
        "\n",
        "# 레이블 인코딩\n",
        "label_encoder = LabelEncoder()\n",
        "df_dummy['product_preference'] = label_encoder.fit_transform(df['product_preference'])\n",
        "\n",
        "# 특성과 타겟 변수를 분리\n",
        "X = df_dummy.drop('product_preference', axis=1)\n",
        "y = df_dummy['product_preference']\n",
        "\n",
        "# 훈련 데이터와 테스트 데이터로 분할\n",
        "X_train, X_test, y_train, y_test = train_test_split(X, y, test_size=0.2, random_state=42)\n",
        "\n",
        "# Random Forest 모델 생성 및 훈련\n",
        "model = RandomForestClassifier(n_estimators=100, random_state=42)\n",
        "model.fit(X_train, y_train)\n",
        "\n",
        "# 예측 및 정확도 평가\n",
        "predictions = model.predict(X_test)\n",
        "accuracy = accuracy_score(y_test, predictions)\n",
        "print(f\"Model Accuracy: {accuracy * 100}\")"
      ],
      "metadata": {
        "colab": {
          "base_uri": "https://localhost:8080/"
        },
        "id": "fLmHKdmOv8pk",
        "outputId": "6bb36348-593f-4188-d414-91c3668997cf"
      },
      "execution_count": 28,
      "outputs": [
        {
          "output_type": "stream",
          "name": "stdout",
          "text": [
            "Model Accuracy: 0.0\n"
          ]
        }
      ]
    },
    {
      "cell_type": "markdown",
      "source": [
        "# 데이터셋 부족으로 정확도가 나오지 않음"
      ],
      "metadata": {
        "id": "5WKPqHCf7IHZ"
      }
    },
    {
      "cell_type": "code",
      "source": [
        "additional_data = {\n",
        "    'age': [27, 32, 40, 55, 38, 29, 41, 36, 33, 47, 26, 34, 43, 52, 37, 31, 44, 49, 50, 45],\n",
        "    'income': [55000, 62000, 78000, 110000, 72000, 54000, 88000, 76000, 63000, 92000,\n",
        "               51000, 68000, 85000, 102000, 74000, 60000, 83000, 97000, 103000, 89000],\n",
        "    'employment': ['full-time', 'part-time', 'self-employed', 'unemployed', 'full-time',\n",
        "                   'full-time', 'part-time', 'self-employed', 'full-time', 'unemployed',\n",
        "                   'full-time', 'part-time', 'self-employed', 'unemployed', 'full-time',\n",
        "                   'full-time', 'part-time', 'self-employed', 'full-time', 'unemployed'],\n",
        "    'marital_status': ['single', 'married', 'married', 'single', 'divorced',\n",
        "                       'married', 'divorced', 'single', 'married', 'single',\n",
        "                       'single', 'married', 'married', 'single', 'divorced',\n",
        "                       'married', 'divorced', 'single', 'married', 'single'],\n",
        "    'residence_area': ['urban', 'suburban', 'rural', 'urban', 'suburban',\n",
        "                       'rural', 'urban', 'suburban', 'rural', 'urban',\n",
        "                       'urban', 'suburban', 'rural', 'urban', 'suburban',\n",
        "                       'rural', 'urban', 'suburban', 'rural', 'urban'],\n",
        "    'product_preference': ['savings', 'credit card', 'mortgage', 'pension', 'investment',\n",
        "                           'savings', 'credit card', 'mortgage', 'pension', 'investment',\n",
        "                           'savings', 'credit card', 'mortgage', 'pension', 'investment',\n",
        "                           'savings', 'credit card', 'mortgage', 'pension', 'investment']\n",
        "}\n",
        "additional_df = pd.DataFrame(additional_data)\n",
        "print(additional_df)"
      ],
      "metadata": {
        "colab": {
          "base_uri": "https://localhost:8080/"
        },
        "id": "Z7uNRIdKxHOp",
        "outputId": "b46f6034-ec2d-4260-b8fa-c1fd4d363358"
      },
      "execution_count": 18,
      "outputs": [
        {
          "output_type": "stream",
          "name": "stdout",
          "text": [
            "    age  income     employment marital_status residence_area  \\\n",
            "0    27   55000      full-time         single          urban   \n",
            "1    32   62000      part-time        married       suburban   \n",
            "2    40   78000  self-employed        married          rural   \n",
            "3    55  110000     unemployed         single          urban   \n",
            "4    38   72000      full-time       divorced       suburban   \n",
            "5    29   54000      full-time        married          rural   \n",
            "6    41   88000      part-time       divorced          urban   \n",
            "7    36   76000  self-employed         single       suburban   \n",
            "8    33   63000      full-time        married          rural   \n",
            "9    47   92000     unemployed         single          urban   \n",
            "10   26   51000      full-time         single          urban   \n",
            "11   34   68000      part-time        married       suburban   \n",
            "12   43   85000  self-employed        married          rural   \n",
            "13   52  102000     unemployed         single          urban   \n",
            "14   37   74000      full-time       divorced       suburban   \n",
            "15   31   60000      full-time        married          rural   \n",
            "16   44   83000      part-time       divorced          urban   \n",
            "17   49   97000  self-employed         single       suburban   \n",
            "18   50  103000      full-time        married          rural   \n",
            "19   45   89000     unemployed         single          urban   \n",
            "\n",
            "   product_preference  \n",
            "0             savings  \n",
            "1         credit card  \n",
            "2            mortgage  \n",
            "3             pension  \n",
            "4          investment  \n",
            "5             savings  \n",
            "6         credit card  \n",
            "7            mortgage  \n",
            "8             pension  \n",
            "9          investment  \n",
            "10            savings  \n",
            "11        credit card  \n",
            "12           mortgage  \n",
            "13            pension  \n",
            "14         investment  \n",
            "15            savings  \n",
            "16        credit card  \n",
            "17           mortgage  \n",
            "18            pension  \n",
            "19         investment  \n"
          ]
        }
      ]
    },
    {
      "cell_type": "code",
      "source": [
        "df_expanded = pd.concat([df, additional_df])"
      ],
      "metadata": {
        "id": "Ar9hSM9zzVm8"
      },
      "execution_count": 21,
      "outputs": []
    },
    {
      "cell_type": "code",
      "source": [
        "df_expanded_dummy = pd.get_dummies(df_expanded, columns=['employment', 'marital_status', 'residence_area'])"
      ],
      "metadata": {
        "id": "OLmmKZKLzqEQ"
      },
      "execution_count": 25,
      "outputs": []
    },
    {
      "cell_type": "markdown",
      "source": [
        "# 데이터 확장 이후 모델 정확성 테스트"
      ],
      "metadata": {
        "id": "5S9icSmD4Iss"
      }
    },
    {
      "cell_type": "code",
      "source": [
        "# 레이블 인코딩\n",
        "label_encoder = LabelEncoder()\n",
        "df_expanded_dummy['product_preference'] = label_encoder.fit_transform(df_expanded['product_preference'])\n",
        "\n",
        "# 특성과 타겟 변수를 분리\n",
        "X_expanded = df_expanded_dummy.drop('product_preference', axis=1)\n",
        "y_expanded = df_expanded_dummy['product_preference']\n",
        "\n",
        "# 훈련 데이터와 테스트 데이터로 분할\n",
        "X_train_expanded, X_test_expanded, y_train_expanded, y_test_expanded = train_test_split(X_expanded, y_expanded, test_size=0.2, random_state=42)\n",
        "\n",
        "# Random Forest 모델 생성 및 훈련\n",
        "model = RandomForestClassifier(n_estimators=100, random_state=42)\n",
        "model.fit(X_train_expanded, y_train_expanded)\n",
        "\n",
        "# 예측 및 정확도 평가\n",
        "predictions_expanded = model.predict(X_test_expanded)\n",
        "accuracy_expanded = accuracy_score(y_test_expanded, predictions_expanded)\n",
        "print(f\"Expanded Model Accuracy: {accuracy_expanded * 100}\")"
      ],
      "metadata": {
        "colab": {
          "base_uri": "https://localhost:8080/"
        },
        "id": "hptGvOzMz5nl",
        "outputId": "636821d3-92ee-46d7-8830-707d2ec17cc3"
      },
      "execution_count": 55,
      "outputs": [
        {
          "output_type": "stream",
          "name": "stdout",
          "text": [
            "Expanded Model Accuracy: 83.33333333333334\n"
          ]
        }
      ]
    },
    {
      "cell_type": "markdown",
      "source": [
        "# 테스트는 여기 new_customer_data 수정하시면 됩니다.\n",
        "### 이후 age, income, employment, marital_status, residence_area만으로 모델이 예측한 특정 고객의 선호하는 금융상품 출력\n"
      ],
      "metadata": {
        "id": "RzbLax6f7OCv"
      }
    },
    {
      "cell_type": "code",
      "source": [
        "import pandas as pd\n",
        "from sklearn.ensemble import RandomForestClassifier\n",
        "from sklearn.preprocessing import LabelEncoder\n",
        "from sklearn.model_selection import train_test_split\n",
        "from sklearn.metrics import accuracy_score"
      ],
      "metadata": {
        "id": "8Pvyx07gIkN0"
      },
      "execution_count": 73,
      "outputs": []
    },
    {
      "cell_type": "code",
      "source": [
        "def new_customer_predict(new_customer_data):\n",
        "  # 새 고객 데이터에 대해 더미 변수 변환 수행\n",
        "  new_customer_data_transformed = pd.get_dummies(new_customer_data)\n",
        "\n",
        "  # 기존 훈련 데이터셋에서 사용된 컬럼과 일치하도록 새 데이터셋 조정\n",
        "  for column in X_expanded.columns:\n",
        "      if column not in new_customer_data_transformed:\n",
        "          new_customer_data_transformed[column] = 0  # 누락된 컬럼 추가\n",
        "  new_customer_data_transformed = new_customer_data_transformed[X_expanded.columns]\n",
        "\n",
        "  # 모델을 사용하여 새 고객 데이터에 대한 예측 수행\n",
        "  new_customer_prediction = model.predict(new_customer_data_transformed)\n",
        "\n",
        "  # 예측된 결과를 원래의 레이블로 변환\n",
        "  new_customer_prediction_label = label_encoder.inverse_transform(new_customer_prediction)\n",
        "\n",
        "  return new_customer_prediction_label[0]"
      ],
      "metadata": {
        "id": "wcvDX1gNJWWI"
      },
      "execution_count": 78,
      "outputs": []
    },
    {
      "cell_type": "code",
      "source": [
        "# 새로운 고객 데이터 준비\n",
        "new_customer_data = pd.DataFrame({\n",
        "    'age': [21],  # 예시 나이\n",
        "    'income': [15000],  # 예시 소득\n",
        "    'employment': ['self-employed'],  # 예시 고용 상태\n",
        "    'marital_status': ['single'],  # 예시 결혼 상태\n",
        "    'residence_area': ['urban']  # 예시 거주 지역\n",
        "})\n",
        "\n",
        "print(\"New Customer Predicted Product Preference:\", new_customer_predict(new_customer_data))"
      ],
      "metadata": {
        "colab": {
          "base_uri": "https://localhost:8080/"
        },
        "id": "RQOhx7CpArP7",
        "outputId": "9fc12304-e577-4642-f527-8a48153a63f2"
      },
      "execution_count": 79,
      "outputs": [
        {
          "output_type": "stream",
          "name": "stdout",
          "text": [
            "New Customer Predicted Product Preference: savings\n"
          ]
        }
      ]
    },
    {
      "cell_type": "code",
      "source": [
        "# 새로운 고객 데이터 준비\n",
        "new_customer_data = pd.DataFrame({\n",
        "    'age': [34],  # 예시 나이\n",
        "    'income': [75000],  # 예시 소득\n",
        "    'employment': ['full-time'],  # 예시 고용 상태\n",
        "    'marital_status': ['married'],  # 예시 결혼 상태\n",
        "    'residence_area': ['urban']  # 예시 거주 지역\n",
        "})\n",
        "\n",
        "print(\"New Customer Predicted Product Preference:\", new_customer_predict(new_customer_data))"
      ],
      "metadata": {
        "colab": {
          "base_uri": "https://localhost:8080/"
        },
        "id": "cOObw9572mgW",
        "outputId": "1e53aec5-4875-4330-b2b1-d59ba88c1f96"
      },
      "execution_count": 80,
      "outputs": [
        {
          "output_type": "stream",
          "name": "stdout",
          "text": [
            "New Customer Predicted Product Preference: investment\n"
          ]
        }
      ]
    }
  ]
}